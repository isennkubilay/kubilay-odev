{
 "cells": [
  {
   "cell_type": "code",
   "execution_count": 1,
   "metadata": {},
   "outputs": [
    {
     "name": "stdout",
     "output_type": "stream",
     "text": [
      "Günlük ortalama %12 artan bitcoine 1000$ yatırmış olsaydınız bir hafta sonunda paranız 1002.301 olurdu\n"
     ]
    }
   ],
   "source": [
    "anapara=1000\n",
    "faiz_oranı = 12 \n",
    "gün_sayısı=7\n",
    "günlük_faiz_getirisi = (anapara/100)*(faiz_oranı/365)*gün_sayısı \n",
    "son_para = anapara + günlük_faiz_getirisi\n",
    "print('Günlük ortalama %{} artan bitcoine {}$ yatırmış olsaydınız bir hafta sonunda paranız {:.3f} olurdu'.format(faiz_oranı,anapara,son_para))"
   ]
  },
  {
   "cell_type": "code",
   "execution_count": null,
   "metadata": {},
   "outputs": [],
   "source": []
  }
 ],
 "metadata": {
  "kernelspec": {
   "display_name": "Python 3",
   "language": "python",
   "name": "python3"
  },
  "language_info": {
   "codemirror_mode": {
    "name": "ipython",
    "version": 3
   },
   "file_extension": ".py",
   "mimetype": "text/x-python",
   "name": "python",
   "nbconvert_exporter": "python",
   "pygments_lexer": "ipython3",
   "version": "3.7.3"
  }
 },
 "nbformat": 4,
 "nbformat_minor": 2
}
