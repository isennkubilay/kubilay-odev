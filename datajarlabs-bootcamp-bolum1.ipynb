{
 "cells": [
  {
   "cell_type": "code",
   "execution_count": 1,
   "metadata": {},
   "outputs": [
    {
     "name": "stdout",
     "output_type": "stream",
     "text": [
      "Günlük ortalama %12 artan bitcoine 1000$ yatırmış olsaydınız bir hafta sonunda paranız 2210.681$ olurdu\n"
     ]
    }
   ],
   "source": [
    "anapara=1000\n",
    "a1=anapara * 0.12 + anapara\n",
    "a2= a1 * 0.12 + a1 \n",
    "a3= a2 * 0.12 + a2 \n",
    "a4= a3 * 0.12 + a3 \n",
    "a5= a4 * 0.12 + a4\n",
    "a6= a5 * 0.12 + a5\n",
    "a7= a6 * 0.12 + a6\n",
    "print('Günlük ortalama %{} artan bitcoine {}$ yatırmış olsaydınız bir hafta sonunda paranız {:.3f}$ olurdu'.format('12',anapara,a7))"
   ]
  },
  {
   "cell_type": "code",
   "execution_count": 3,
   "metadata": {},
   "outputs": [
    {
     "name": "stdout",
     "output_type": "stream",
     "text": [
      "Günlük ortalama %12 artan bitcoine 1000$ yatırmış olsaydınız bir hafta sonunda paranız 2210.681$ olurdu\n"
     ]
    }
   ],
   "source": [
    "print('Günlük ortalama %{} artan bitcoine {}$ yatırmış olsaydınız bir hafta sonunda paranız {:.3f}$ olurdu'.format('12',anapara,a7))"
   ]
  },
  {
   "cell_type": "code",
   "execution_count": 2,
   "metadata": {},
   "outputs": [
    {
     "name": "stdout",
     "output_type": "stream",
     "text": [
      "Dosya adı giriniz: as\n",
      "Dosya Adı as.py uzantısıdır.\n"
     ]
    }
   ],
   "source": [
    "a = input('Dosya adı giriniz: ')\n",
    "b = 'Dosya Adı {}.py uzantısıdır.'\n",
    "print(b.format(a))\n"
   ]
  },
  {
   "cell_type": "code",
   "execution_count": null,
   "metadata": {},
   "outputs": [],
   "source": []
  }
 ],
 "metadata": {
  "kernelspec": {
   "display_name": "Python 3",
   "language": "python",
   "name": "python3"
  },
  "language_info": {
   "codemirror_mode": {
    "name": "ipython",
    "version": 3
   },
   "file_extension": ".py",
   "mimetype": "text/x-python",
   "name": "python",
   "nbconvert_exporter": "python",
   "pygments_lexer": "ipython3",
   "version": "3.7.3"
  }
 },
 "nbformat": 4,
 "nbformat_minor": 2
}
