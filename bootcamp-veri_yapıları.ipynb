{
 "cells": [
  {
   "cell_type": "code",
   "execution_count": 14,
   "metadata": {},
   "outputs": [
    {
     "name": "stdout",
     "output_type": "stream",
     "text": [
      "['Pazartesi', 'Salı', 'Çarşamba', 'Perşembe', 'Cuma', 'Cumartesi', 'Pazar']\n",
      "Bir gün giriniz: Salı\n",
      "Başka bir gün giriniz: Perşembe\n",
      "['Pazartesi', 'Çarşamba', 'Cuma', 'Cumartesi', 'Pazar']\n"
     ]
    }
   ],
   "source": [
    "a = {'Pazartesi':1, 'Salı':2,'Çarşamba':3,'Perşembe':4,'Cuma':5,'Cumartesi':6,'Pazar':7}\n",
    "print(list(a.keys()))\n",
    "birinci_gun = input('Bir gün giriniz: ')\n",
    "ikinci_gun = input('Başka bir gün giriniz: ')\n",
    "del a[birinci_gun]\n",
    "del a[ikinci_gun]\n",
    "print(list(a.keys()))\n"
   ]
  },
  {
   "cell_type": "code",
   "execution_count": 22,
   "metadata": {},
   "outputs": [
    {
     "name": "stdout",
     "output_type": "stream",
     "text": [
      "[['Ocak'], [31], ['Şubat'], [28], ['Mart'], [31], ['Nisan'], [30], ['Mayıs'], [31], ['Haziran'], [30], ['Temmuz'], [31], ['Ağustos'], [31], ['Eylül'], [30], ['Ekim'], [31], ['Kasım'], [30], ['Aralık'], [31]]\n"
     ]
    }
   ],
   "source": [
    "b = [['Ocak'],[31],['Şubat'],[28],['Mart'],[31],['Nisan'],[30],['Mayıs'],[31],['Haziran'],[30],['Temmuz'],[31],['Ağustos'],[31],['Eylül'],[30],['Ekim'],[31],['Kasım'],[30],['Aralık'],[31]]\n",
    "print(b)     "
   ]
  },
  {
   "cell_type": "code",
   "execution_count": 24,
   "metadata": {},
   "outputs": [
    {
     "name": "stdout",
     "output_type": "stream",
     "text": [
      "[['Ocak'], ['Şubat'], ['Mart'], ['Nisan'], ['Mayıs'], ['Haziran'], ['Temmuz'], ['Ağustos'], ['Eylül'], ['Ekim'], ['Kasım'], ['Aralık']] [[31], [28], [31], [30], [31], [30], [31], [31], [30], [31], [30], [31]]\n"
     ]
    }
   ],
   "source": [
    "ay=b[0:23:2]\n",
    "gunler=b[1:24:2]\n",
    "print(ay,gunler)"
   ]
  },
  {
   "cell_type": "code",
   "execution_count": 20,
   "metadata": {},
   "outputs": [
    {
     "name": "stdout",
     "output_type": "stream",
     "text": [
      "[[{'Ocak,Mart,Mayıs,Temmuz,Ağustos,Ekim,Aralık': 31}, {'Nisan,Haziran,Eylül,Kasım': 30}], [{'Şubat': 28}]]\n"
     ]
    }
   ],
   "source": [
    "b = [[{'Ocak,Mart,Mayıs,Temmuz,Ağustos,Ekim,Aralık':31},{'Nisan,Haziran,Eylül,Kasım':30}],[{'Şubat':28}]]\n",
    "print(b)"
   ]
  },
  {
   "cell_type": "code",
   "execution_count": 25,
   "metadata": {},
   "outputs": [
    {
     "name": "stdout",
     "output_type": "stream",
     "text": [
      "ilkbahar ayları : ['Mart', 'Nisan', 'Mayıs']\n",
      "yaz ayları : ['Haziran', 'Temmuz', 'Ağustos']\n",
      "sonbahar ayları : ['Eylül', 'Ekim', 'Kasım']\n",
      "kış ayları : ['Aralık', 'Ocak', 'Şubat']\n"
     ]
    }
   ],
   "source": [
    "ilkbahar = ['Mart', 'Nisan', 'Mayıs']\n",
    "yaz = ['Haziran', 'Temmuz','Ağustos']\n",
    "sonbahar = ['Eylül', 'Ekim', 'Kasım']\n",
    "kış = ['Aralık', 'Ocak', 'Şubat']\n",
    "print('ilkbahar ayları :',ilkbahar)\n",
    "print('yaz ayları :', yaz)\n",
    "print('sonbahar ayları :' , sonbahar)\n",
    "print('kış ayları :', kış)"
   ]
  },
  {
   "cell_type": "code",
   "execution_count": 26,
   "metadata": {},
   "outputs": [
    {
     "name": "stdout",
     "output_type": "stream",
     "text": [
      "92\n"
     ]
    }
   ],
   "source": [
    "Ocak = Mart = Mayıs = Temmuz = Ağustos = Ekim = Aralık = 31\n",
    "Nisan = Haziran = Eylül = Kasım = 30 \n",
    "Subat = 28\n",
    "print(Haziran+Temmuz+Ağustos)"
   ]
  },
  {
   "cell_type": "code",
   "execution_count": null,
   "metadata": {},
   "outputs": [],
   "source": []
  }
 ],
 "metadata": {
  "kernelspec": {
   "display_name": "Python 3",
   "language": "python",
   "name": "python3"
  },
  "language_info": {
   "codemirror_mode": {
    "name": "ipython",
    "version": 3
   },
   "file_extension": ".py",
   "mimetype": "text/x-python",
   "name": "python",
   "nbconvert_exporter": "python",
   "pygments_lexer": "ipython3",
   "version": "3.7.3"
  }
 },
 "nbformat": 4,
 "nbformat_minor": 2
}
